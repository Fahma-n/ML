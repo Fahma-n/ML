{
 "cells": [
  {
   "cell_type": "code",
   "execution_count": 2,
   "id": "6ac1b8b6",
   "metadata": {},
   "outputs": [],
   "source": [
    "import pandas as pd\n",
    "import numpy as np"
   ]
  },
  {
   "cell_type": "code",
   "execution_count": 3,
   "id": "26ee276d",
   "metadata": {},
   "outputs": [
    {
     "data": {
      "text/html": [
       "<div>\n",
       "<style scoped>\n",
       "    .dataframe tbody tr th:only-of-type {\n",
       "        vertical-align: middle;\n",
       "    }\n",
       "\n",
       "    .dataframe tbody tr th {\n",
       "        vertical-align: top;\n",
       "    }\n",
       "\n",
       "    .dataframe thead th {\n",
       "        text-align: right;\n",
       "    }\n",
       "</style>\n",
       "<table border=\"1\" class=\"dataframe\">\n",
       "  <thead>\n",
       "    <tr style=\"text-align: right;\">\n",
       "      <th></th>\n",
       "      <th>user_id</th>\n",
       "      <th>status_id</th>\n",
       "      <th>screen_name</th>\n",
       "      <th>account.type</th>\n",
       "      <th>class_type</th>\n",
       "    </tr>\n",
       "  </thead>\n",
       "  <tbody>\n",
       "    <tr>\n",
       "      <th>0</th>\n",
       "      <td>343587159</td>\n",
       "      <td>1175975242164068352</td>\n",
       "      <td>human#1</td>\n",
       "      <td>human</td>\n",
       "      <td>human</td>\n",
       "    </tr>\n",
       "    <tr>\n",
       "      <th>1</th>\n",
       "      <td>18839785</td>\n",
       "      <td>1216367699028140034</td>\n",
       "      <td>human#11</td>\n",
       "      <td>human</td>\n",
       "      <td>human</td>\n",
       "    </tr>\n",
       "    <tr>\n",
       "      <th>2</th>\n",
       "      <td>262794965</td>\n",
       "      <td>1073395310406250496</td>\n",
       "      <td>human#8</td>\n",
       "      <td>human</td>\n",
       "      <td>human</td>\n",
       "    </tr>\n",
       "    <tr>\n",
       "      <th>3</th>\n",
       "      <td>14260960</td>\n",
       "      <td>1235202464959340544</td>\n",
       "      <td>human#9</td>\n",
       "      <td>human</td>\n",
       "      <td>human</td>\n",
       "    </tr>\n",
       "    <tr>\n",
       "      <th>4</th>\n",
       "      <td>1110407881030017024</td>\n",
       "      <td>1199674264472834048</td>\n",
       "      <td>bot#9</td>\n",
       "      <td>bot</td>\n",
       "      <td>others</td>\n",
       "    </tr>\n",
       "    <tr>\n",
       "      <th>...</th>\n",
       "      <td>...</td>\n",
       "      <td>...</td>\n",
       "      <td>...</td>\n",
       "      <td>...</td>\n",
       "      <td>...</td>\n",
       "    </tr>\n",
       "    <tr>\n",
       "      <th>2297</th>\n",
       "      <td>705113652471439361</td>\n",
       "      <td>714523361305608192</td>\n",
       "      <td>bot#16</td>\n",
       "      <td>bot</td>\n",
       "      <td>rnn</td>\n",
       "    </tr>\n",
       "    <tr>\n",
       "      <th>2298</th>\n",
       "      <td>262794965</td>\n",
       "      <td>935057601103933441</td>\n",
       "      <td>human#8</td>\n",
       "      <td>human</td>\n",
       "      <td>human</td>\n",
       "    </tr>\n",
       "    <tr>\n",
       "      <th>2299</th>\n",
       "      <td>343587159</td>\n",
       "      <td>1158520796039405569</td>\n",
       "      <td>human#1</td>\n",
       "      <td>human</td>\n",
       "      <td>human</td>\n",
       "    </tr>\n",
       "    <tr>\n",
       "      <th>2300</th>\n",
       "      <td>1110407881030017024</td>\n",
       "      <td>1210364706457677824</td>\n",
       "      <td>bot#9</td>\n",
       "      <td>bot</td>\n",
       "      <td>others</td>\n",
       "    </tr>\n",
       "    <tr>\n",
       "      <th>2301</th>\n",
       "      <td>1213988022728810496</td>\n",
       "      <td>1219363974657052675</td>\n",
       "      <td>bot#8</td>\n",
       "      <td>bot</td>\n",
       "      <td>gpt2</td>\n",
       "    </tr>\n",
       "  </tbody>\n",
       "</table>\n",
       "<p>2302 rows × 5 columns</p>\n",
       "</div>"
      ],
      "text/plain": [
       "                  user_id            status_id screen_name account.type  \\\n",
       "0               343587159  1175975242164068352     human#1        human   \n",
       "1                18839785  1216367699028140034    human#11        human   \n",
       "2               262794965  1073395310406250496     human#8        human   \n",
       "3                14260960  1235202464959340544     human#9        human   \n",
       "4     1110407881030017024  1199674264472834048       bot#9          bot   \n",
       "...                   ...                  ...         ...          ...   \n",
       "2297   705113652471439361   714523361305608192      bot#16          bot   \n",
       "2298            262794965   935057601103933441     human#8        human   \n",
       "2299            343587159  1158520796039405569     human#1        human   \n",
       "2300  1110407881030017024  1210364706457677824       bot#9          bot   \n",
       "2301  1213988022728810496  1219363974657052675       bot#8          bot   \n",
       "\n",
       "     class_type  \n",
       "0         human  \n",
       "1         human  \n",
       "2         human  \n",
       "3         human  \n",
       "4        others  \n",
       "...         ...  \n",
       "2297        rnn  \n",
       "2298      human  \n",
       "2299      human  \n",
       "2300     others  \n",
       "2301       gpt2  \n",
       "\n",
       "[2302 rows x 5 columns]"
      ]
     },
     "execution_count": 3,
     "metadata": {},
     "output_type": "execute_result"
    }
   ],
   "source": [
    "data=pd.read_csv(\"C:\\\\Users\\\\DELL\\\\Numpy\\df.csv\")\n",
    "data"
   ]
  },
  {
   "cell_type": "code",
   "execution_count": 4,
   "id": "df22edcd",
   "metadata": {},
   "outputs": [
    {
     "data": {
      "text/plain": [
       "<bound method NDFrame.describe of                   user_id            status_id screen_name account.type  \\\n",
       "0               343587159  1175975242164068352     human#1        human   \n",
       "1                18839785  1216367699028140034    human#11        human   \n",
       "2               262794965  1073395310406250496     human#8        human   \n",
       "3                14260960  1235202464959340544     human#9        human   \n",
       "4     1110407881030017024  1199674264472834048       bot#9          bot   \n",
       "...                   ...                  ...         ...          ...   \n",
       "2297   705113652471439361   714523361305608192      bot#16          bot   \n",
       "2298            262794965   935057601103933441     human#8        human   \n",
       "2299            343587159  1158520796039405569     human#1        human   \n",
       "2300  1110407881030017024  1210364706457677824       bot#9          bot   \n",
       "2301  1213988022728810496  1219363974657052675       bot#8          bot   \n",
       "\n",
       "     class_type  \n",
       "0         human  \n",
       "1         human  \n",
       "2         human  \n",
       "3         human  \n",
       "4        others  \n",
       "...         ...  \n",
       "2297        rnn  \n",
       "2298      human  \n",
       "2299      human  \n",
       "2300     others  \n",
       "2301       gpt2  \n",
       "\n",
       "[2302 rows x 5 columns]>"
      ]
     },
     "execution_count": 4,
     "metadata": {},
     "output_type": "execute_result"
    }
   ],
   "source": [
    "data.describe"
   ]
  },
  {
   "cell_type": "code",
   "execution_count": 5,
   "id": "2e8f1020",
   "metadata": {},
   "outputs": [
    {
     "data": {
      "text/plain": [
       "array([['343587159', '1175975242164068352', 'human#1', 'human', 'human'],\n",
       "       ['18839785', '1216367699028140034', 'human#11', 'human', 'human'],\n",
       "       ['262794965', '1073395310406250496', 'human#8', 'human', 'human'],\n",
       "       ...,\n",
       "       ['343587159', '1158520796039405569', 'human#1', 'human', 'human'],\n",
       "       ['1110407881030017024', '1210364706457677824', 'bot#9', 'bot',\n",
       "        'others'],\n",
       "       ['1213988022728810496', '1219363974657052675', 'bot#8', 'bot',\n",
       "        'gpt2']], dtype=object)"
      ]
     },
     "execution_count": 5,
     "metadata": {},
     "output_type": "execute_result"
    }
   ],
   "source": [
    "data.values"
   ]
  },
  {
   "cell_type": "code",
   "execution_count": 6,
   "id": "f433d3ea",
   "metadata": {},
   "outputs": [
    {
     "data": {
      "text/plain": [
       "<bound method DataFrame.info of                   user_id            status_id screen_name account.type  \\\n",
       "0               343587159  1175975242164068352     human#1        human   \n",
       "1                18839785  1216367699028140034    human#11        human   \n",
       "2               262794965  1073395310406250496     human#8        human   \n",
       "3                14260960  1235202464959340544     human#9        human   \n",
       "4     1110407881030017024  1199674264472834048       bot#9          bot   \n",
       "...                   ...                  ...         ...          ...   \n",
       "2297   705113652471439361   714523361305608192      bot#16          bot   \n",
       "2298            262794965   935057601103933441     human#8        human   \n",
       "2299            343587159  1158520796039405569     human#1        human   \n",
       "2300  1110407881030017024  1210364706457677824       bot#9          bot   \n",
       "2301  1213988022728810496  1219363974657052675       bot#8          bot   \n",
       "\n",
       "     class_type  \n",
       "0         human  \n",
       "1         human  \n",
       "2         human  \n",
       "3         human  \n",
       "4        others  \n",
       "...         ...  \n",
       "2297        rnn  \n",
       "2298      human  \n",
       "2299      human  \n",
       "2300     others  \n",
       "2301       gpt2  \n",
       "\n",
       "[2302 rows x 5 columns]>"
      ]
     },
     "execution_count": 6,
     "metadata": {},
     "output_type": "execute_result"
    }
   ],
   "source": [
    "data.info"
   ]
  },
  {
   "cell_type": "code",
   "execution_count": 7,
   "id": "8e1ee8c7",
   "metadata": {},
   "outputs": [
    {
     "data": {
      "text/plain": [
       "array(['human', 'others', 'gpt2', 'rnn'], dtype=object)"
      ]
     },
     "execution_count": 7,
     "metadata": {},
     "output_type": "execute_result"
    }
   ],
   "source": [
    "data[\"class_type\"].unique()"
   ]
  },
  {
   "cell_type": "code",
   "execution_count": 8,
   "id": "fd49982e",
   "metadata": {},
   "outputs": [
    {
     "data": {
      "text/plain": [
       "Index(['user_id', 'status_id', 'screen_name', 'account.type', 'class_type'], dtype='object')"
      ]
     },
     "execution_count": 8,
     "metadata": {},
     "output_type": "execute_result"
    }
   ],
   "source": [
    "data.columns"
   ]
  },
  {
   "cell_type": "code",
   "execution_count": 9,
   "id": "bcfa4249",
   "metadata": {},
   "outputs": [
    {
     "data": {
      "text/html": [
       "<div>\n",
       "<style scoped>\n",
       "    .dataframe tbody tr th:only-of-type {\n",
       "        vertical-align: middle;\n",
       "    }\n",
       "\n",
       "    .dataframe tbody tr th {\n",
       "        vertical-align: top;\n",
       "    }\n",
       "\n",
       "    .dataframe thead th {\n",
       "        text-align: right;\n",
       "    }\n",
       "</style>\n",
       "<table border=\"1\" class=\"dataframe\">\n",
       "  <thead>\n",
       "    <tr style=\"text-align: right;\">\n",
       "      <th></th>\n",
       "      <th>user_id</th>\n",
       "      <th>status_id</th>\n",
       "      <th>screen_name</th>\n",
       "      <th>account.type</th>\n",
       "      <th>class_type</th>\n",
       "    </tr>\n",
       "  </thead>\n",
       "  <tbody>\n",
       "    <tr>\n",
       "      <th>0</th>\n",
       "      <td>30</td>\n",
       "      <td>699</td>\n",
       "      <td>23</td>\n",
       "      <td>1</td>\n",
       "      <td>1</td>\n",
       "    </tr>\n",
       "    <tr>\n",
       "      <th>1</th>\n",
       "      <td>25</td>\n",
       "      <td>1534</td>\n",
       "      <td>25</td>\n",
       "      <td>1</td>\n",
       "      <td>1</td>\n",
       "    </tr>\n",
       "    <tr>\n",
       "      <th>2</th>\n",
       "      <td>27</td>\n",
       "      <td>164</td>\n",
       "      <td>38</td>\n",
       "      <td>1</td>\n",
       "      <td>1</td>\n",
       "    </tr>\n",
       "    <tr>\n",
       "      <th>3</th>\n",
       "      <td>19</td>\n",
       "      <td>1935</td>\n",
       "      <td>39</td>\n",
       "      <td>1</td>\n",
       "      <td>1</td>\n",
       "    </tr>\n",
       "    <tr>\n",
       "      <th>4</th>\n",
       "      <td>4</td>\n",
       "      <td>1071</td>\n",
       "      <td>22</td>\n",
       "      <td>0</td>\n",
       "      <td>2</td>\n",
       "    </tr>\n",
       "    <tr>\n",
       "      <th>...</th>\n",
       "      <td>...</td>\n",
       "      <td>...</td>\n",
       "      <td>...</td>\n",
       "      <td>...</td>\n",
       "      <td>...</td>\n",
       "    </tr>\n",
       "    <tr>\n",
       "      <th>2297</th>\n",
       "      <td>33</td>\n",
       "      <td>2059</td>\n",
       "      <td>7</td>\n",
       "      <td>0</td>\n",
       "      <td>3</td>\n",
       "    </tr>\n",
       "    <tr>\n",
       "      <th>2298</th>\n",
       "      <td>27</td>\n",
       "      <td>2192</td>\n",
       "      <td>38</td>\n",
       "      <td>1</td>\n",
       "      <td>1</td>\n",
       "    </tr>\n",
       "    <tr>\n",
       "      <th>2299</th>\n",
       "      <td>30</td>\n",
       "      <td>540</td>\n",
       "      <td>23</td>\n",
       "      <td>1</td>\n",
       "      <td>1</td>\n",
       "    </tr>\n",
       "    <tr>\n",
       "      <th>2300</th>\n",
       "      <td>4</td>\n",
       "      <td>1381</td>\n",
       "      <td>22</td>\n",
       "      <td>0</td>\n",
       "      <td>2</td>\n",
       "    </tr>\n",
       "    <tr>\n",
       "      <th>2301</th>\n",
       "      <td>13</td>\n",
       "      <td>1623</td>\n",
       "      <td>21</td>\n",
       "      <td>0</td>\n",
       "      <td>0</td>\n",
       "    </tr>\n",
       "  </tbody>\n",
       "</table>\n",
       "<p>2302 rows × 5 columns</p>\n",
       "</div>"
      ],
      "text/plain": [
       "      user_id  status_id  screen_name  account.type  class_type\n",
       "0          30        699           23             1           1\n",
       "1          25       1534           25             1           1\n",
       "2          27        164           38             1           1\n",
       "3          19       1935           39             1           1\n",
       "4           4       1071           22             0           2\n",
       "...       ...        ...          ...           ...         ...\n",
       "2297       33       2059            7             0           3\n",
       "2298       27       2192           38             1           1\n",
       "2299       30        540           23             1           1\n",
       "2300        4       1381           22             0           2\n",
       "2301       13       1623           21             0           0\n",
       "\n",
       "[2302 rows x 5 columns]"
      ]
     },
     "execution_count": 9,
     "metadata": {},
     "output_type": "execute_result"
    }
   ],
   "source": [
    "from sklearn.preprocessing import LabelEncoder\n",
    "le=LabelEncoder()\n",
    "v=['user_id', 'status_id', 'screen_name', 'account.type', 'class_type']\n",
    "v\n",
    "for i in v:\n",
    "    data[i]=le.fit_transform(data[i])\n",
    "data"
   ]
  },
  {
   "cell_type": "code",
   "execution_count": 10,
   "id": "37ae89a9",
   "metadata": {},
   "outputs": [
    {
     "data": {
      "text/html": [
       "<div>\n",
       "<style scoped>\n",
       "    .dataframe tbody tr th:only-of-type {\n",
       "        vertical-align: middle;\n",
       "    }\n",
       "\n",
       "    .dataframe tbody tr th {\n",
       "        vertical-align: top;\n",
       "    }\n",
       "\n",
       "    .dataframe thead th {\n",
       "        text-align: right;\n",
       "    }\n",
       "</style>\n",
       "<table border=\"1\" class=\"dataframe\">\n",
       "  <thead>\n",
       "    <tr style=\"text-align: right;\">\n",
       "      <th></th>\n",
       "      <th>user_id</th>\n",
       "      <th>status_id</th>\n",
       "      <th>screen_name</th>\n",
       "      <th>account.type</th>\n",
       "    </tr>\n",
       "  </thead>\n",
       "  <tbody>\n",
       "    <tr>\n",
       "      <th>0</th>\n",
       "      <td>30</td>\n",
       "      <td>699</td>\n",
       "      <td>23</td>\n",
       "      <td>1</td>\n",
       "    </tr>\n",
       "    <tr>\n",
       "      <th>1</th>\n",
       "      <td>25</td>\n",
       "      <td>1534</td>\n",
       "      <td>25</td>\n",
       "      <td>1</td>\n",
       "    </tr>\n",
       "    <tr>\n",
       "      <th>2</th>\n",
       "      <td>27</td>\n",
       "      <td>164</td>\n",
       "      <td>38</td>\n",
       "      <td>1</td>\n",
       "    </tr>\n",
       "    <tr>\n",
       "      <th>3</th>\n",
       "      <td>19</td>\n",
       "      <td>1935</td>\n",
       "      <td>39</td>\n",
       "      <td>1</td>\n",
       "    </tr>\n",
       "    <tr>\n",
       "      <th>4</th>\n",
       "      <td>4</td>\n",
       "      <td>1071</td>\n",
       "      <td>22</td>\n",
       "      <td>0</td>\n",
       "    </tr>\n",
       "    <tr>\n",
       "      <th>...</th>\n",
       "      <td>...</td>\n",
       "      <td>...</td>\n",
       "      <td>...</td>\n",
       "      <td>...</td>\n",
       "    </tr>\n",
       "    <tr>\n",
       "      <th>2297</th>\n",
       "      <td>33</td>\n",
       "      <td>2059</td>\n",
       "      <td>7</td>\n",
       "      <td>0</td>\n",
       "    </tr>\n",
       "    <tr>\n",
       "      <th>2298</th>\n",
       "      <td>27</td>\n",
       "      <td>2192</td>\n",
       "      <td>38</td>\n",
       "      <td>1</td>\n",
       "    </tr>\n",
       "    <tr>\n",
       "      <th>2299</th>\n",
       "      <td>30</td>\n",
       "      <td>540</td>\n",
       "      <td>23</td>\n",
       "      <td>1</td>\n",
       "    </tr>\n",
       "    <tr>\n",
       "      <th>2300</th>\n",
       "      <td>4</td>\n",
       "      <td>1381</td>\n",
       "      <td>22</td>\n",
       "      <td>0</td>\n",
       "    </tr>\n",
       "    <tr>\n",
       "      <th>2301</th>\n",
       "      <td>13</td>\n",
       "      <td>1623</td>\n",
       "      <td>21</td>\n",
       "      <td>0</td>\n",
       "    </tr>\n",
       "  </tbody>\n",
       "</table>\n",
       "<p>2302 rows × 4 columns</p>\n",
       "</div>"
      ],
      "text/plain": [
       "      user_id  status_id  screen_name  account.type\n",
       "0          30        699           23             1\n",
       "1          25       1534           25             1\n",
       "2          27        164           38             1\n",
       "3          19       1935           39             1\n",
       "4           4       1071           22             0\n",
       "...       ...        ...          ...           ...\n",
       "2297       33       2059            7             0\n",
       "2298       27       2192           38             1\n",
       "2299       30        540           23             1\n",
       "2300        4       1381           22             0\n",
       "2301       13       1623           21             0\n",
       "\n",
       "[2302 rows x 4 columns]"
      ]
     },
     "execution_count": 10,
     "metadata": {},
     "output_type": "execute_result"
    }
   ],
   "source": [
    "x=data.drop(\"class_type\",axis=1)\n",
    "x\n"
   ]
  },
  {
   "cell_type": "code",
   "execution_count": 11,
   "id": "2cc608c7",
   "metadata": {
    "scrolled": true
   },
   "outputs": [
    {
     "data": {
      "text/plain": [
       "0       1\n",
       "1       1\n",
       "2       1\n",
       "3       1\n",
       "4       2\n",
       "       ..\n",
       "2297    3\n",
       "2298    1\n",
       "2299    1\n",
       "2300    2\n",
       "2301    0\n",
       "Name: class_type, Length: 2302, dtype: int32"
      ]
     },
     "execution_count": 11,
     "metadata": {},
     "output_type": "execute_result"
    }
   ],
   "source": [
    "y=data[\"class_type\"]\n",
    "y\n"
   ]
  },
  {
   "cell_type": "code",
   "execution_count": 12,
   "id": "14869080",
   "metadata": {},
   "outputs": [],
   "source": [
    "from sklearn.model_selection import train_test_split\n",
    "xtrain,xtest,ytrain,ytest=train_test_split(x,y,test_size=0.2) "
   ]
  },
  {
   "cell_type": "code",
   "execution_count": 13,
   "id": "b3fe23ac",
   "metadata": {},
   "outputs": [
    {
     "data": {
      "text/html": [
       "<style>#sk-container-id-1 {color: black;}#sk-container-id-1 pre{padding: 0;}#sk-container-id-1 div.sk-toggleable {background-color: white;}#sk-container-id-1 label.sk-toggleable__label {cursor: pointer;display: block;width: 100%;margin-bottom: 0;padding: 0.3em;box-sizing: border-box;text-align: center;}#sk-container-id-1 label.sk-toggleable__label-arrow:before {content: \"▸\";float: left;margin-right: 0.25em;color: #696969;}#sk-container-id-1 label.sk-toggleable__label-arrow:hover:before {color: black;}#sk-container-id-1 div.sk-estimator:hover label.sk-toggleable__label-arrow:before {color: black;}#sk-container-id-1 div.sk-toggleable__content {max-height: 0;max-width: 0;overflow: hidden;text-align: left;background-color: #f0f8ff;}#sk-container-id-1 div.sk-toggleable__content pre {margin: 0.2em;color: black;border-radius: 0.25em;background-color: #f0f8ff;}#sk-container-id-1 input.sk-toggleable__control:checked~div.sk-toggleable__content {max-height: 200px;max-width: 100%;overflow: auto;}#sk-container-id-1 input.sk-toggleable__control:checked~label.sk-toggleable__label-arrow:before {content: \"▾\";}#sk-container-id-1 div.sk-estimator input.sk-toggleable__control:checked~label.sk-toggleable__label {background-color: #d4ebff;}#sk-container-id-1 div.sk-label input.sk-toggleable__control:checked~label.sk-toggleable__label {background-color: #d4ebff;}#sk-container-id-1 input.sk-hidden--visually {border: 0;clip: rect(1px 1px 1px 1px);clip: rect(1px, 1px, 1px, 1px);height: 1px;margin: -1px;overflow: hidden;padding: 0;position: absolute;width: 1px;}#sk-container-id-1 div.sk-estimator {font-family: monospace;background-color: #f0f8ff;border: 1px dotted black;border-radius: 0.25em;box-sizing: border-box;margin-bottom: 0.5em;}#sk-container-id-1 div.sk-estimator:hover {background-color: #d4ebff;}#sk-container-id-1 div.sk-parallel-item::after {content: \"\";width: 100%;border-bottom: 1px solid gray;flex-grow: 1;}#sk-container-id-1 div.sk-label:hover label.sk-toggleable__label {background-color: #d4ebff;}#sk-container-id-1 div.sk-serial::before {content: \"\";position: absolute;border-left: 1px solid gray;box-sizing: border-box;top: 0;bottom: 0;left: 50%;z-index: 0;}#sk-container-id-1 div.sk-serial {display: flex;flex-direction: column;align-items: center;background-color: white;padding-right: 0.2em;padding-left: 0.2em;position: relative;}#sk-container-id-1 div.sk-item {position: relative;z-index: 1;}#sk-container-id-1 div.sk-parallel {display: flex;align-items: stretch;justify-content: center;background-color: white;position: relative;}#sk-container-id-1 div.sk-item::before, #sk-container-id-1 div.sk-parallel-item::before {content: \"\";position: absolute;border-left: 1px solid gray;box-sizing: border-box;top: 0;bottom: 0;left: 50%;z-index: -1;}#sk-container-id-1 div.sk-parallel-item {display: flex;flex-direction: column;z-index: 1;position: relative;background-color: white;}#sk-container-id-1 div.sk-parallel-item:first-child::after {align-self: flex-end;width: 50%;}#sk-container-id-1 div.sk-parallel-item:last-child::after {align-self: flex-start;width: 50%;}#sk-container-id-1 div.sk-parallel-item:only-child::after {width: 0;}#sk-container-id-1 div.sk-dashed-wrapped {border: 1px dashed gray;margin: 0 0.4em 0.5em 0.4em;box-sizing: border-box;padding-bottom: 0.4em;background-color: white;}#sk-container-id-1 div.sk-label label {font-family: monospace;font-weight: bold;display: inline-block;line-height: 1.2em;}#sk-container-id-1 div.sk-label-container {text-align: center;}#sk-container-id-1 div.sk-container {/* jupyter's `normalize.less` sets `[hidden] { display: none; }` but bootstrap.min.css set `[hidden] { display: none !important; }` so we also need the `!important` here to be able to override the default hidden behavior on the sphinx rendered scikit-learn.org. See: https://github.com/scikit-learn/scikit-learn/issues/21755 */display: inline-block !important;position: relative;}#sk-container-id-1 div.sk-text-repr-fallback {display: none;}</style><div id=\"sk-container-id-1\" class=\"sk-top-container\"><div class=\"sk-text-repr-fallback\"><pre>LinearRegression()</pre><b>In a Jupyter environment, please rerun this cell to show the HTML representation or trust the notebook. <br />On GitHub, the HTML representation is unable to render, please try loading this page with nbviewer.org.</b></div><div class=\"sk-container\" hidden><div class=\"sk-item\"><div class=\"sk-estimator sk-toggleable\"><input class=\"sk-toggleable__control sk-hidden--visually\" id=\"sk-estimator-id-1\" type=\"checkbox\" checked><label for=\"sk-estimator-id-1\" class=\"sk-toggleable__label sk-toggleable__label-arrow\">LinearRegression</label><div class=\"sk-toggleable__content\"><pre>LinearRegression()</pre></div></div></div></div></div>"
      ],
      "text/plain": [
       "LinearRegression()"
      ]
     },
     "execution_count": 13,
     "metadata": {},
     "output_type": "execute_result"
    }
   ],
   "source": [
    "from sklearn.linear_model import LinearRegression\n",
    "regr=LinearRegression()\n",
    "regr.fit(xtrain,ytrain)"
   ]
  },
  {
   "cell_type": "code",
   "execution_count": 14,
   "id": "a9a7754e",
   "metadata": {},
   "outputs": [],
   "source": [
    "from sklearn.metrics import mean_squared_error, r2_score"
   ]
  },
  {
   "cell_type": "code",
   "execution_count": 15,
   "id": "cf523c2e",
   "metadata": {},
   "outputs": [],
   "source": [
    "from sklearn.metrics import accuracy_score"
   ]
  },
  {
   "cell_type": "code",
   "execution_count": 16,
   "id": "d8941571",
   "metadata": {},
   "outputs": [
    {
     "data": {
      "text/plain": [
       "41.29837352498771"
      ]
     },
     "execution_count": 16,
     "metadata": {},
     "output_type": "execute_result"
    }
   ],
   "source": [
    "accuracy=(regr.score(xtest,ytest)*100)\n",
    "accuracy\n"
   ]
  },
  {
   "cell_type": "code",
   "execution_count": 17,
   "id": "3d29fa50",
   "metadata": {},
   "outputs": [
    {
     "data": {
      "text/plain": [
       "array([0.96668179, 2.5009455 , 0.88292117, 0.76629565, 0.98968886,\n",
       "       1.74683678, 1.11061776, 2.16554442, 0.60475074, 1.33628602,\n",
       "       0.28062142, 1.00263393, 1.01868377, 1.16198823, 0.99921787,\n",
       "       2.57807656, 0.76461758, 1.77627423, 1.34191953, 1.27484982,\n",
       "       1.23610063, 1.00290349, 2.46940713, 1.0988713 , 1.08884374,\n",
       "       1.24440493, 1.06259401, 1.09294785, 1.57312293, 1.62232619,\n",
       "       1.07565894, 0.77174936, 1.09771416, 1.75660552, 2.57274271,\n",
       "       1.1768511 , 1.11553209, 0.7846345 , 1.2631633 , 1.29968731,\n",
       "       0.52162659, 1.11397389, 1.11733002, 2.56517669, 0.99819905,\n",
       "       1.10772262, 2.56662976, 1.13169498, 1.34323801, 1.36330078,\n",
       "       1.40698841, 1.5542447 , 1.30232427, 0.76377752, 1.75828358,\n",
       "       1.61525435, 1.08781084, 1.01378747, 2.57118451, 2.46958692,\n",
       "       1.08658547, 1.1137941 , 1.1815257 , 1.1037066 , 1.23442154,\n",
       "       2.58041386, 2.57280264, 0.7497537 , 1.09881137, 1.09993096,\n",
       "       2.49045759, 1.09166049, 1.24101497, 1.12120707, 0.76689496,\n",
       "       1.08722561, 1.00482128, 2.58884939, 1.25627124, 1.19220512,\n",
       "       2.57675808, 0.76395732, 1.12755975, 2.48674188, 1.24656244,\n",
       "       1.11625126, 1.56966064, 0.99107366, 1.25800924, 1.57899616,\n",
       "       0.23771091, 1.11990705, 1.00053635, 1.11577182, 1.32070399,\n",
       "       1.43347787, 1.1072017 , 1.41407061, 2.54571388, 1.16180844,\n",
       "       1.00766813, 1.30268385, 1.04022571, 1.30538074, 1.28194777,\n",
       "       2.52701544, 1.09753372, 1.10886066, 1.75468773, 1.26136537,\n",
       "       0.76180083, 0.75442933, 1.09344434, 1.74833505, 0.51857012,\n",
       "       0.97153619, 0.75508857, 2.55758019, 1.35150847, 1.02565379,\n",
       "       2.46832837, 1.11143834, 1.29723014, 1.59439634, 1.6430291 ,\n",
       "       1.07356136, 2.56710921, 1.13181484, 1.30046641, 1.12875836,\n",
       "       0.99346451, 0.98609301, 1.25549214, 1.05440258, 1.09359739,\n",
       "       0.87884484, 1.0825798 , 0.99783946, 1.07721715, 1.30502116,\n",
       "       1.36918808, 1.29417367, 1.30478144, 2.46706982, 1.26855708,\n",
       "       1.25689665, 1.13768807, 1.30615985, 1.09060084, 0.99628126,\n",
       "       2.16812145, 0.98292306, 1.13738841, 0.20540815, 1.77393692,\n",
       "       2.50771769, 0.87590822, 1.34491607, 1.11876836, 2.5771776 ,\n",
       "       1.27215293, 1.55317964, 1.26774414, 1.28464466, 1.08872388,\n",
       "       1.30244413, 1.30603998, 1.30496123, 1.09765423, 0.97663032,\n",
       "       1.01294205, 2.57298243, 0.98142479, 1.29535322, 0.76449772,\n",
       "       1.26124551, 2.13073995, 0.70514069, 1.07372708, 1.59421655,\n",
       "       2.55781992, 0.75377009, 1.01005372, 1.1064226 , 1.18098633,\n",
       "       1.29661177, 1.24161428, 2.58131283, 2.53690404, 1.00422197,\n",
       "       1.16084955, 1.06193477, 1.00500107, 1.022819  , 2.58167241,\n",
       "       0.59102656, 2.55044842, 1.13601   , 0.70042022, 1.07176408,\n",
       "       2.53876189, 0.76323917, 2.51904463, 1.29219595, 1.11840877,\n",
       "       1.3949423 , 1.07715722, 1.75744455, 2.46299452, 1.12737995,\n",
       "       1.10576336, 2.5484707 , 1.25384018, 0.87776608, 1.28416521,\n",
       "       1.26924242, 1.35696218, 2.1660838 , 1.09251863, 1.76157978,\n",
       "       0.76246007, 1.34761296, 2.55889867, 0.99232582, 0.5852732 ,\n",
       "       2.58047379, 1.35024992, 1.26520095, 1.10796234, 1.08442796,\n",
       "       1.30044735, 2.59256511, 1.34855778, 1.04019896, 1.35510432,\n",
       "       1.74785561, 1.00287366, 1.26312947, 1.28290666, 1.23199923,\n",
       "       1.29351443, 1.10286822, 1.1850017 , 1.90533648, 1.11744988,\n",
       "       2.5550631 , 1.11139686, 1.57731809, 1.17487338, 0.51785094,\n",
       "       1.55977204, 1.19322394, 1.11547216, 1.24029477, 1.12935767,\n",
       "       1.1278594 , 1.08581607, 1.11331465, 2.57376153, 1.18709928,\n",
       "       2.16902041, 1.0289436 , 1.02127244, 1.33098699, 2.46659037,\n",
       "       0.75388893, 0.76365869, 0.2910494 , 1.08281953, 1.40297304,\n",
       "       1.2337034 , 1.43341794, 0.99196624, 0.83761341, 1.07140385,\n",
       "       1.37001105, 0.76126145, 1.33315554, 1.0844095 , 2.57154409,\n",
       "       2.46892768, 2.56914686, 1.27953147, 0.22518535, 1.59475593,\n",
       "       1.33125183, 1.10571313, 0.51839032, 1.01348782, 1.62490322,\n",
       "       1.34935096, 1.56497233, 1.41808598, 1.04954818, 1.75786407,\n",
       "       1.57456127, 0.85595226, 0.70185856, 1.01312184, 1.43773296,\n",
       "       1.06194246, 2.58245151, 1.58492931, 1.11792933, 1.09605455,\n",
       "       1.0309696 , 1.24185297, 1.02823082, 1.55323752, 1.10071006,\n",
       "       1.5985915 , 2.54799125, 1.75151139, 1.18308391, 1.27790629,\n",
       "       2.46772906, 0.97105675, 1.6654372 , 2.54397588, 1.11834884,\n",
       "       0.99142686, 1.12977719, 1.11755129, 1.03272563, 1.01599852,\n",
       "       1.58421014, 1.16001051, 1.1415518 , 1.08928236, 2.16752214,\n",
       "       1.76086061, 0.88196124, 1.26897659, 0.85325537, 1.11377499,\n",
       "       1.61538791, 1.2746101 , 2.51706691, 1.05468378, 1.74390017,\n",
       "       2.46539176, 2.46904754, 0.76383848, 1.11715023, 1.21012446,\n",
       "       1.13984558, 1.43719358, 1.60242914, 1.22780407, 2.56615031,\n",
       "       1.11263695, 1.61221157, 2.50663894, 1.54173078, 1.18621203,\n",
       "       2.550808  , 0.85978784, 1.00302335, 1.10935921, 0.75460913,\n",
       "       1.18440239, 1.25908799, 2.57208347, 1.18560101, 1.00677556,\n",
       "       2.4658712 , 0.52126701, 1.05338376, 2.55470351, 1.35342626,\n",
       "       1.27353134, 1.00416204, 1.01115051, 1.75061243, 1.33302464,\n",
       "       1.40165456, 1.30783791, 1.24877988, 1.10594315, 1.02339985,\n",
       "       0.96907903, 2.49339421, 0.87123464, 1.00332301, 1.27634809,\n",
       "       0.97848818, 1.10378564, 1.32346081, 1.04743214, 0.54937459,\n",
       "       1.02103911, 0.8616457 , 0.99556209, 1.08386948, 1.11727009,\n",
       "       0.69381375, 0.71251219, 1.76217909, 1.09795324, 1.40100567,\n",
       "       1.75486752, 1.11451327, 1.24632271, 1.61849061, 1.18393466,\n",
       "       1.6165129 , 1.27373723, 1.11619133, 1.13307339, 1.62028854,\n",
       "       1.00344287, 1.00929266, 0.76707475, 1.20958508, 1.0179646 ,\n",
       "       1.08263973, 2.56704927, 2.46569141, 2.1678218 , 2.16806152,\n",
       "       1.12564196, 1.65830542, 1.01593859, 1.11524214, 1.58516904,\n",
       "       1.75708496, 0.71898472, 0.97692997, 1.06708883, 2.49932737,\n",
       "       0.74921432, 1.38487391, 2.46521196, 1.13127546, 2.54247761,\n",
       "       1.09917096, 1.01665776, 1.26282981, 2.5622548 , 1.30621978,\n",
       "       1.11469306, 0.99490285, 2.56039695, 1.1791884 , 1.11419451,\n",
       "       0.83725383, 1.10088985, 1.05120714, 1.34611469, 1.29213602,\n",
       "       2.46515203, 2.55865895, 1.29375415, 1.00191476, 1.11882829,\n",
       "       1.1545568 , 2.46730954, 1.37218463, 0.52024818, 1.00615821,\n",
       "       1.74695664])"
      ]
     },
     "execution_count": 17,
     "metadata": {},
     "output_type": "execute_result"
    }
   ],
   "source": [
    "ypredict=regr.predict(xtest)\n",
    "ypredict"
   ]
  },
  {
   "cell_type": "code",
   "execution_count": 18,
   "id": "965f0329",
   "metadata": {},
   "outputs": [
    {
     "data": {
      "text/plain": [
       "0.4914428871704061"
      ]
     },
     "execution_count": 18,
     "metadata": {},
     "output_type": "execute_result"
    }
   ],
   "source": [
    "mse=mean_squared_error(ytest, ypredict)\n",
    "mse"
   ]
  },
  {
   "cell_type": "code",
   "execution_count": 19,
   "id": "75c0aa62",
   "metadata": {},
   "outputs": [
    {
     "data": {
      "text/plain": [
       "0.4129837352498771"
      ]
     },
     "execution_count": 19,
     "metadata": {},
     "output_type": "execute_result"
    }
   ],
   "source": [
    "r2 = r2_score(ytest, ypredict)\n",
    "r2"
   ]
  },
  {
   "cell_type": "code",
   "execution_count": 20,
   "id": "556c5be0",
   "metadata": {},
   "outputs": [
    {
     "data": {
      "text/plain": [
       "35.648114055043564"
      ]
     },
     "execution_count": 20,
     "metadata": {},
     "output_type": "execute_result"
    }
   ],
   "source": [
    "predict=(regr.score(xtrain,ytrain)*100)\n",
    "predict"
   ]
  },
  {
   "cell_type": "code",
   "execution_count": 21,
   "id": "1b149cbb",
   "metadata": {},
   "outputs": [
    {
     "name": "stderr",
     "output_type": "stream",
     "text": [
      "C:\\Users\\DELL\\anaconda3\\Lib\\site-packages\\sklearn\\base.py:464: UserWarning: X does not have valid feature names, but LinearRegression was fitted with feature names\n",
      "  warnings.warn(\n"
     ]
    },
    {
     "data": {
      "text/plain": [
       "array([1.15635473])"
      ]
     },
     "execution_count": 21,
     "metadata": {},
     "output_type": "execute_result"
    }
   ],
   "source": [
    "w=[[25,762,25,1]]\n",
    "v=regr.predict(w)\n",
    "v"
   ]
  },
  {
   "cell_type": "code",
   "execution_count": 22,
   "id": "3360ee33",
   "metadata": {},
   "outputs": [
    {
     "data": {
      "text/plain": [
       "array([1, 2, 0, 3])"
      ]
     },
     "execution_count": 22,
     "metadata": {},
     "output_type": "execute_result"
    }
   ],
   "source": [
    "data[\"class_type\"].unique()\n"
   ]
  },
  {
   "cell_type": "code",
   "execution_count": 23,
   "id": "818159f8",
   "metadata": {},
   "outputs": [
    {
     "name": "stdout",
     "output_type": "stream",
     "text": [
      "human\n"
     ]
    }
   ],
   "source": [
    "if v>=1:\n",
    "    print(\"human\")\n",
    "elif v>=3:\n",
    "    print(\"rnn\")\n",
    "elif v>=2:\n",
    "    print(\"others\")\n",
    "else:\n",
    "    print(\"gpt2\")"
   ]
  },
  {
   "cell_type": "code",
   "execution_count": 24,
   "id": "a9253c3d",
   "metadata": {},
   "outputs": [
    {
     "data": {
      "image/png": "[encoded data removed]",
      "text/plain": [
       "<Figure size 640x480 with 1 Axes>"
      ]
     },
     "metadata": {},
     "output_type": "display_data"
    }
   ],
   "source": [
    "import matplotlib.pyplot as plt\n",
    "x=data[\"class_type\"]\n",
    "y=data[\"user_id\"]\n",
    "plt.bar(x,y)\n",
    "plt.plot()\n",
    "plt.show()"
   ]
  },
  {
   "cell_type": "code",
   "execution_count": null,
   "id": "f54959c4",
   "metadata": {},
   "outputs": [],
   "source": []
  }
 ],
 "metadata": {
  "kernelspec": {
   "display_name": "Python 3 (ipykernel)",
   "language": "python",
   "name": "python3"
  },
  "language_info": {
   "codemirror_mode": {
    "name": "ipython",
    "version": 3
   },
   "file_extension": ".py",
   "mimetype": "text/x-python",
   "name": "python",
   "nbconvert_exporter": "python",
   "pygments_lexer": "ipython3",
   "version": "3.11.5"
  }
 },
 "nbformat": 4,
 "nbformat_minor": 5
}
